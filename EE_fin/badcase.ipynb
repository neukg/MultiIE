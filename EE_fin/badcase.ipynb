{
 "metadata": {
  "language_info": {
   "codemirror_mode": {
    "name": "ipython",
    "version": 3
   },
   "file_extension": ".py",
   "mimetype": "text/x-python",
   "name": "python",
   "nbconvert_exporter": "python",
   "pygments_lexer": "ipython3",
   "version": "3.6.12-final"
  },
  "orig_nbformat": 2,
  "kernelspec": {
   "name": "python3612jvsc74a57bd09d46df17f15a214792723f9e33307bbb1568c59d231e3a486e542254e2cdb740",
   "display_name": "Python 3.6.12 64-bit ('py3_6_torch1_6': conda)"
  }
 },
 "nbformat": 4,
 "nbformat_minor": 2,
 "cells": [
  {
   "cell_type": "code",
   "execution_count": 1,
   "metadata": {},
   "outputs": [],
   "source": [
    "import json\n",
    "from collections import Counter\n",
    "\n",
    "import config"
   ]
  },
  {
   "cell_type": "code",
   "execution_count": 2,
   "metadata": {},
   "outputs": [],
   "source": [
    "dev_data = []\n",
    "data_path = os.path.join(config.data_out_dir, config.common[\"exp_name\"])\n",
    "with open(os.path.join(data_path, 'data_0.json'), 'r') as f:\n",
    "    dev_data.extend(json.load(f))"
   ]
  },
  {
   "cell_type": "code",
   "execution_count": 3,
   "metadata": {},
   "outputs": [
    {
     "output_type": "execute_result",
     "data": {
      "text/plain": [
       "{'text': '原标题：润建股份(30.700,-0.29,-0.94%)有限公司关于公司股东进行股票质押式回购交易的公告\\n本公司及董事会全体成员保证信息披露内容的真实、准确和完整，没有虚假记载、误导性陈述或者重大遗漏。\\n润建股份有限公司（以下简称“公司”）近日收到公司控股股东李建国先生的通知，获悉李建国先生持有的公司部分股份被质押，具体事项公告如下：\\n一、股东股份质押基本情况\\n1、本次质押基本情况\\n■\\n2、股东股份累计被质押的情况\\n截至本公告披露日，公司控股股东李建国先生及其一致行动人蒋鹂北女士直接和间接共计持有公司股份140,518,872.00股，占公司总股本的63.66％。\\n截至本公告披露日，李建国先生及其一致行动人蒋鹂北女士累计质押公司股份?15,970,000?.00股；占其持有公司股份总数的11.37%，占公司总股本的7.23%。\\n除上述情况外，不存在持有本公司5%以上股份的股东所持本公司股份处于被质押状态的情况。\\n3、公司股东质押的股份不存在平仓风险，上述质押股份行为不会导致其实际控制权的变更，对公司的财务状况和经营成果不会产生影响，不存在损害公司及全体股东利益的情形。\\n公司股东未来股份变动如达到《证券法》、《上市公司收购管理办法》等规定的相关情形的，将严格遵守相关规定，及时履行信息披露义务。\\n二、备查文件\\n1、中国证券登记结算有限责任公司证券质押及司法冻结明细表。\\n特此公告。\\n润建股份有限公司\\n董  事  会\\n2020年5月16日',\n",
       " 'event_list': [{'trigger': '质押',\n",
       "   'event_type': '质押',\n",
       "   'arguments': [{'role': '质押物所属公司', 'argument': '润建股份有限公司'},\n",
       "    {'role': '披露时间', 'argument': '2020年5月16日'},\n",
       "    {'role': '质押物占总股比', 'argument': '7.23%'},\n",
       "    {'role': '质押物占持股比', 'argument': '11.37%'},\n",
       "    {'role': '质押方', 'argument': '李建国'},\n",
       "    {'role': '质押方', 'argument': '蒋鹂北'},\n",
       "    {'role': '质押物', 'argument': '股份'},\n",
       "    {'role': '质押股票/股份数量', 'argument': '15,970,000?.00'},\n",
       "    {'role': '事件时间', 'argument': '截至本公告披露日'}]}],\n",
       " 'id': 'd7d582849f4b160b2102d8e306a2c508',\n",
       " 'title': '润建股份有限公司关于公司股东进行股票质押式回购交易的公告'}"
      ]
     },
     "metadata": {},
     "execution_count": 3
    }
   ],
   "source": [
    "dev_data[0]"
   ]
  },
  {
   "cell_type": "code",
   "execution_count": 4,
   "metadata": {},
   "outputs": [
    {
     "output_type": "execute_result",
     "data": {
      "text/plain": [
       "'原标题：润建股份(30.700,-0.29,-0.94%)有限公司关于公司股东进行股票质押式回购交易的公告\\n本公司及董事会全体成员保证信息披露内容的真实、准确和完整，没有虚假记载、误导性陈述或者重大遗漏。\\n润建股份有限公司（以下简称“公司”）近日收到公司控股股东李建国先生的通知，获悉李建国先生持有的公司部分股份被质押，具体事项公告如下：\\n一、股东股份质押基本情况\\n1、本次质押基本情况\\n■\\n2、股东股份累计被质押的情况\\n截至本公告披露日，公司控股股东李建国先生及其一致行动人蒋鹂北女士直接和间接共计持有公司股份'"
      ]
     },
     "metadata": {},
     "execution_count": 4
    }
   ],
   "source": [
    "dev_data[0][\"text\"][0:256]"
   ]
  },
  {
   "cell_type": "code",
   "execution_count": 5,
   "metadata": {},
   "outputs": [
    {
     "output_type": "execute_result",
     "data": {
      "text/plain": [
       "'股股东李建国先生的通知，获悉李建国先生持有的公司部分股份被质押，具体事项公告如下：\\n一、股东股份质押基本情况\\n1、本次质押基本情况\\n■\\n2、股东股份累计被质押的情况\\n截至本公告披露日，公司控股股东李建国先生及其一致行动人蒋鹂北女士直接和间接共计持有公司股份140,518,872.00股，占公司总股本的63.66％。\\n截至本公告披露日，李建国先生及其一致行动人蒋鹂北女士累计质押公司股份?15,970,000?.00股；占其持有公司股份总数的11.37%，占公司总股本的7.23%。\\n除上述情况外，不存在持有本公'"
      ]
     },
     "metadata": {},
     "execution_count": 5
    }
   ],
   "source": [
    "dev_data[0][\"text\"][128: 256+128]"
   ]
  },
  {
   "cell_type": "code",
   "execution_count": 6,
   "metadata": {},
   "outputs": [
    {
     "output_type": "execute_result",
     "data": {
      "text/plain": [
       "'140,518,872.00股，占公司总股本的63.66％。\\n截至本公告披露日，李建国先生及其一致行动人蒋鹂北女士累计质押公司股份?15,970,000?.00股；占其持有公司股份总数的11.37%，占公司总股本的7.23%。\\n除上述情况外，不存在持有本公司5%以上股份的股东所持本公司股份处于被质押状态的情况。\\n3、公司股东质押的股份不存在平仓风险，上述质押股份行为不会导致其实际控制权的变更，对公司的财务状况和经营成果不会产生影响，不存在损害公司及全体股东利益的情形。\\n公司股东未来股份变动如达到《证券法》、'"
      ]
     },
     "metadata": {},
     "execution_count": 6
    }
   ],
   "source": [
    "dev_data[0][\"text\"][256: 512]"
   ]
  },
  {
   "cell_type": "code",
   "execution_count": 7,
   "metadata": {},
   "outputs": [
    {
     "output_type": "execute_result",
     "data": {
      "text/plain": [
       "'司5%以上股份的股东所持本公司股份处于被质押状态的情况。\\n3、公司股东质押的股份不存在平仓风险，上述质押股份行为不会导致其实际控制权的变更，对公司的财务状况和经营成果不会产生影响，不存在损害公司及全体股东利益的情形。\\n公司股东未来股份变动如达到《证券法》、《上市公司收购管理办法》等规定的相关情形的，将严格遵守相关规定，及时履行信息披露义务。\\n二、备查文件\\n1、中国证券登记结算有限责任公司证券质押及司法冻结明细表。\\n特此公告。\\n润建股份有限公司\\n董  事  会\\n2020年5月16日'"
      ]
     },
     "metadata": {},
     "execution_count": 7
    }
   ],
   "source": [
    "dev_data[0][\"text\"][256+128: 512+128]"
   ]
  },
  {
   "cell_type": "code",
   "execution_count": 8,
   "metadata": {},
   "outputs": [
    {
     "output_type": "stream",
     "name": "stdout",
     "text": [
      "one event_type have multi event: {512, 517, 8, 9, 521, 522, 1037, 1038, 1039, 18, 19, 20, 533, 22, 1043, 1044, 1045, 1046, 1049, 28, 1051, 542, 543, 1053, 1054, 1057, 35, 1059, 1060, 38, 1064, 553, 1067, 45, 46, 47, 558, 1074, 1076, 566, 568, 1081, 1084, 61, 574, 64, 1090, 579, 1093, 72, 1099, 589, 1101, 1105, 82, 1106, 596, 597, 598, 87, 88, 89, 600, 602, 1108, 607, 1122, 99, 611, 1124, 105, 108, 1133, 110, 111, 1136, 625, 1138, 117, 629, 1141, 1143, 636, 127, 128, 129, 639, 641, 132, 1151, 1152, 1154, 136, 1159, 652, 1164, 654, 143, 144, 1169, 1171, 148, 150, 153, 669, 160, 164, 687, 693, 186, 700, 190, 702, 706, 710, 199, 200, 712, 203, 205, 718, 214, 728, 729, 220, 222, 734, 736, 225, 235, 239, 240, 751, 244, 245, 259, 261, 262, 775, 777, 267, 782, 272, 786, 787, 290, 293, 300, 301, 304, 306, 311, 824, 313, 314, 829, 318, 833, 834, 326, 327, 328, 841, 336, 848, 852, 855, 349, 351, 865, 354, 868, 362, 366, 878, 884, 373, 886, 888, 889, 381, 894, 385, 386, 898, 900, 904, 394, 908, 402, 403, 404, 914, 408, 409, 921, 922, 412, 415, 419, 937, 427, 434, 946, 439, 440, 441, 954, 956, 450, 452, 454, 456, 462, 975, 465, 980, 471, 985, 990, 481, 482, 489, 492, 1015}\n\nNumber: data have not event_list: 146\n"
     ]
    }
   ],
   "source": [
    "special_event= set()\n",
    "None_event_list = []\n",
    "for index, data in enumerate(dev_data):\n",
    "    if \"event_list\" not in data:\n",
    "        None_event_list.append(data)\n",
    "        continue\n",
    "    event_triggers = []\n",
    "    for event in data[\"event_list\"]:\n",
    "        event_triggers.append((event[\"trigger\"], event[\"event_type\"]))\n",
    "    event_triggers = dict(Counter(event_triggers))\n",
    "    for etrigger, num in event_triggers.items():\n",
    "        if num > 1:\n",
    "            special_event.add(index)\n",
    "\n",
    "print('one event_type have multi event:', special_event)\n",
    "print()\n",
    "print(\"Number: data have not event_list:\", len(None_event_list))\n"
   ]
  },
  {
   "cell_type": "code",
   "execution_count": 9,
   "metadata": {},
   "outputs": [],
   "source": [
    "new_dev_data = []\n",
    "with open(os.path.join('./', 'new_dev.json'), 'r') as f:\n",
    "    for line in f.readlines():\n",
    "        new_dev_data.append(json.loads(line))"
   ]
  },
  {
   "cell_type": "code",
   "execution_count": 17,
   "metadata": {},
   "outputs": [
    {
     "output_type": "execute_result",
     "data": {
      "text/plain": [
       "{'id': '0a5d4a20209d1c8aabd8b5f311a8dec7',\n",
       " 'event_list': [{'event_type': '股份回购',\n",
       "   'arguments': [{'role': '回购方', 'argument': '香港建设（控股）'},\n",
       "    {'role': '回购完成时间', 'argument': '2020年6月5日'},\n",
       "    {'role': '回购股份数量', 'argument': '4.7万'},\n",
       "    {'role': '交易金额', 'argument': '24.376万港币'},\n",
       "    {'role': '每股交易价格', 'argument': '5.1864港币'},\n",
       "    {'role': '每股交易价格', 'argument': '最高回购价5.2200港币'},\n",
       "    {'role': '每股交易价格', 'argument': '最低回购价5.1400港币'}]},\n",
       "  {'event_type': '股份回购',\n",
       "   'arguments': [{'role': '回购方', 'argument': '香港建设（控股）'},\n",
       "    {'role': '回购完成时间', 'argument': '本年度内至今为止'},\n",
       "    {'role': '回购股份数量', 'argument': '5.8万'},\n",
       "    {'role': '占公司总股本比例', 'argument': '0.011%'}]}]}"
      ]
     },
     "metadata": {},
     "execution_count": 17
    }
   ],
   "source": [
    "new_dev_data[8]"
   ]
  },
  {
   "cell_type": "code",
   "execution_count": 16,
   "metadata": {},
   "outputs": [
    {
     "output_type": "execute_result",
     "data": {
      "text/plain": [
       "{'text': '客户端\\n香港建设（控股）（00190）公布，于2020年6月5日在香港交易所回购4.7万股，耗资24.376万港币，回购均价为5.1864港币，最高回购价5.2200港币，最低回购价5.1400港币。\\n公司于本年度内至今为止（自普通决议案通过以来），累计购回股数为5.8万股，占于普通决议案通过时已发行股本0.011%。',\n",
       " 'event_list': [{'trigger': '回购',\n",
       "   'event_type': '股份回购',\n",
       "   'arguments': [{'role': '回购方', 'argument': '香港建设（控股）'},\n",
       "    {'role': '回购完成时间', 'argument': '2020年6月5日'},\n",
       "    {'role': '回购股份数量', 'argument': '4.7万'},\n",
       "    {'role': '交易金额', 'argument': '24.376万港币'},\n",
       "    {'role': '每股交易价格', 'argument': '5.1864港币'},\n",
       "    {'role': '每股交易价格', 'argument': '最高回购价5.2200港币'},\n",
       "    {'role': '每股交易价格', 'argument': '最低回购价5.1400港币'}]},\n",
       "  {'trigger': '回购',\n",
       "   'event_type': '股份回购',\n",
       "   'arguments': [{'role': '回购方', 'argument': '香港建设（控股）'},\n",
       "    {'role': '回购完成时间', 'argument': '本年度内至今为止'},\n",
       "    {'role': '回购股份数量', 'argument': '5.8万'},\n",
       "    {'role': '占公司总股本比例', 'argument': '0.011%'}]}],\n",
       " 'id': '0a5d4a20209d1c8aabd8b5f311a8dec7',\n",
       " 'title': '香港建设(控股)6月5日回购4万股 耗资24万港币'}"
      ]
     },
     "metadata": {},
     "execution_count": 16
    }
   ],
   "source": [
    "dev_data[8]"
   ]
  },
  {
   "cell_type": "code",
   "execution_count": 20,
   "metadata": {},
   "outputs": [
    {
     "output_type": "execute_result",
     "data": {
      "text/plain": [
       "{'id': '2ad7c4895fada5b8ab430021223fd228',\n",
       " 'event_list': [{'event_type': '被约谈',\n",
       "   'arguments': [{'role': '公司名称', 'argument': '爱奇艺'}]},\n",
       "  {'event_type': '被约谈', 'arguments': [{'role': '公司名称', 'argument': '优酷'}]},\n",
       "  {'event_type': '被约谈',\n",
       "   'arguments': [{'role': '公司名称', 'argument': '爱奇艺'},\n",
       "    {'role': '披露时间', 'argument': '4月9日'},\n",
       "    {'role': '被约谈时间', 'argument': '4月9日'},\n",
       "    {'role': '被约谈时间', 'argument': '8日'},\n",
       "    {'role': '约谈机构', 'argument': '浙江省消费者权益保护委员会'}]},\n",
       "  {'event_type': '被约谈',\n",
       "   'arguments': [{'role': '公司名称', 'argument': '优酷'},\n",
       "    {'role': '披露时间', 'argument': '4月9日'},\n",
       "    {'role': '被约谈时间', 'argument': '4月9日'},\n",
       "    {'role': '被约谈时间', 'argument': '8日'},\n",
       "    {'role': '约谈机构', 'argument': '浙江省消费者权益保护委员会'}]},\n",
       "  {'event_type': '被约谈', 'arguments': [{'role': '约谈机构', 'argument': '浙江消保委'}]}]}"
      ]
     },
     "metadata": {},
     "execution_count": 20
    }
   ],
   "source": [
    "new_dev_data[9]"
   ]
  },
  {
   "cell_type": "code",
   "execution_count": 19,
   "metadata": {},
   "outputs": [
    {
     "output_type": "execute_result",
     "data": {
      "text/plain": [
       "{'text': '如何在结构性行情中开展投资布局？新浪财经《基金直播间》，邀请基金经理在线路演解读市场。\\n原标题：九大问题曝光，爱奇艺、优酷等11家视频、音频网站被约谈\\n“中国消费者报”微信公号4月9日消息，8日，浙江省消费者权益保护委员会根据前期对爱奇艺、腾讯视频、优酷、芒果TV、搜狐视频、腾讯体育、PP视频、乐视视频和哔哩哔哩九大视频平台以及喜马拉雅和蜻蜓FM两大音频平台的会员消费体验结果，对上述存在问题的视、音频网站进行约谈并提出整改意见。\\n浙江消保委就体验发现的问题提出九方面整改意见\\n广告特权描述不清，涉嫌虚假宣传。浙江消保委明确提出禁止使用“免广告”“跳广告”等容易误导消费者的绝对性宣传语；类似开屏广告等窗口，应在显著位置设置关闭键，确保一键关闭；会员权益中，以明确的、简单的方式描述广告特权，并以显著方式提示消费者。\\n自动续费扣款未提醒。浙江消保委要求网站在会员自动续费到期前3日内通过有效方式提醒消费者即将扣费，并得到消费者同意才能扣款。\\n默认勾选自动续费，开通容易取消难。浙江消保委建议有关网站取消默认勾选；不得通过技术手段引导消费者选择平台推荐选项，对选择项实现单页全显功能；设置一键开通服务时设置一键取消服务。',\n",
       " 'event_list': [{'trigger': '被约谈',\n",
       "   'event_type': '被约谈',\n",
       "   'arguments': [{'role': '公司名称', 'argument': '爱奇艺'},\n",
       "    {'role': '披露时间', 'argument': '4月9日'},\n",
       "    {'role': '被约谈时间', 'argument': '8日'},\n",
       "    {'role': '约谈机构', 'argument': '浙江省消费者权益保护委员会'}]},\n",
       "  {'trigger': '被约谈',\n",
       "   'event_type': '被约谈',\n",
       "   'arguments': [{'role': '披露时间', 'argument': '4月9日'},\n",
       "    {'role': '被约谈时间', 'argument': '8日'},\n",
       "    {'role': '约谈机构', 'argument': '浙江省消费者权益保护委员会'},\n",
       "    {'role': '公司名称', 'argument': '腾讯视频'}]},\n",
       "  {'trigger': '被约谈',\n",
       "   'event_type': '被约谈',\n",
       "   'arguments': [{'role': '披露时间', 'argument': '4月9日'},\n",
       "    {'role': '被约谈时间', 'argument': '8日'},\n",
       "    {'role': '约谈机构', 'argument': '浙江省消费者权益保护委员会'},\n",
       "    {'role': '公司名称', 'argument': '优酷'}]},\n",
       "  {'trigger': '被约谈',\n",
       "   'event_type': '被约谈',\n",
       "   'arguments': [{'role': '披露时间', 'argument': '4月9日'},\n",
       "    {'role': '被约谈时间', 'argument': '8日'},\n",
       "    {'role': '约谈机构', 'argument': '浙江省消费者权益保护委员会'},\n",
       "    {'role': '公司名称', 'argument': '芒果TV'}]},\n",
       "  {'trigger': '被约谈',\n",
       "   'event_type': '被约谈',\n",
       "   'arguments': [{'role': '披露时间', 'argument': '4月9日'},\n",
       "    {'role': '被约谈时间', 'argument': '8日'},\n",
       "    {'role': '约谈机构', 'argument': '浙江省消费者权益保护委员会'},\n",
       "    {'role': '公司名称', 'argument': '搜狐视频'}]},\n",
       "  {'trigger': '被约谈',\n",
       "   'event_type': '被约谈',\n",
       "   'arguments': [{'role': '披露时间', 'argument': '4月9日'},\n",
       "    {'role': '被约谈时间', 'argument': '8日'},\n",
       "    {'role': '约谈机构', 'argument': '浙江省消费者权益保护委员会'},\n",
       "    {'role': '公司名称', 'argument': '腾讯体育'}]},\n",
       "  {'trigger': '被约谈',\n",
       "   'event_type': '被约谈',\n",
       "   'arguments': [{'role': '披露时间', 'argument': '4月9日'},\n",
       "    {'role': '被约谈时间', 'argument': '8日'},\n",
       "    {'role': '约谈机构', 'argument': '浙江省消费者权益保护委员会'},\n",
       "    {'role': '公司名称', 'argument': 'PP视频'}]},\n",
       "  {'trigger': '被约谈',\n",
       "   'event_type': '被约谈',\n",
       "   'arguments': [{'role': '披露时间', 'argument': '4月9日'},\n",
       "    {'role': '被约谈时间', 'argument': '8日'},\n",
       "    {'role': '约谈机构', 'argument': '浙江省消费者权益保护委员会'},\n",
       "    {'role': '公司名称', 'argument': '乐视视频'}]},\n",
       "  {'trigger': '被约谈',\n",
       "   'event_type': '被约谈',\n",
       "   'arguments': [{'role': '披露时间', 'argument': '4月9日'},\n",
       "    {'role': '被约谈时间', 'argument': '8日'},\n",
       "    {'role': '约谈机构', 'argument': '浙江省消费者权益保护委员会'},\n",
       "    {'role': '公司名称', 'argument': '哔哩哔哩'}]},\n",
       "  {'trigger': '被约谈',\n",
       "   'event_type': '被约谈',\n",
       "   'arguments': [{'role': '披露时间', 'argument': '4月9日'},\n",
       "    {'role': '被约谈时间', 'argument': '8日'},\n",
       "    {'role': '约谈机构', 'argument': '浙江省消费者权益保护委员会'},\n",
       "    {'role': '公司名称', 'argument': '喜马拉雅'}]},\n",
       "  {'trigger': '被约谈',\n",
       "   'event_type': '被约谈',\n",
       "   'arguments': [{'role': '披露时间', 'argument': '4月9日'},\n",
       "    {'role': '被约谈时间', 'argument': '8日'},\n",
       "    {'role': '约谈机构', 'argument': '浙江省消费者权益保护委员会'},\n",
       "    {'role': '公司名称', 'argument': '蜻蜓FM'}]}],\n",
       " 'id': '2ad7c4895fada5b8ab430021223fd228',\n",
       " 'title': '九大问题曝光 爱奇艺、优酷等11家视频、音频网站被约谈'}"
      ]
     },
     "metadata": {},
     "execution_count": 19
    }
   ],
   "source": [
    "dev_data[9]"
   ]
  },
  {
   "cell_type": "code",
   "execution_count": 23,
   "metadata": {},
   "outputs": [
    {
     "output_type": "execute_result",
     "data": {
      "text/plain": [
       "{'id': '98c0aaf60065049a9274a9f746e447e6',\n",
       " 'event_list': [{'event_type': '解除质押',\n",
       "   'arguments': [{'role': '质押物所属公司', 'argument': '诺力智能装备股份有限公司'},\n",
       "    {'role': '质押物', 'argument': '股份'}]},\n",
       "  {'event_type': '质押',\n",
       "   'arguments': [{'role': '质押物所属公司', 'argument': '诺力智能装备股份有限公司'},\n",
       "    {'role': '质押物', 'argument': '股份'}]},\n",
       "  {'event_type': '解除质押',\n",
       "   'arguments': [{'role': '质押物所属公司', 'argument': '诺力智能装备股份有限公司'},\n",
       "    {'role': '质押物', 'argument': '股份'}]},\n",
       "  {'event_type': '质押',\n",
       "   'arguments': [{'role': '质押物所属公司', 'argument': '诺力智能装备股份有限公司'},\n",
       "    {'role': '质押物', 'argument': '股份'},\n",
       "    {'role': '质押方', 'argument': '丁晟'}]},\n",
       "  {'event_type': '解除质押', 'arguments': [{'role': '质押物', 'argument': '股份'}]},\n",
       "  {'event_type': '质押',\n",
       "   'arguments': [{'role': '质押物', 'argument': '股份'},\n",
       "    {'role': '质押股票/股份数量', 'argument': '15,140,000'},\n",
       "    {'role': '质押物占持股比', 'argument': '68.93%'},\n",
       "    {'role': '质押物占总股比', 'argument': '5.66%'}]},\n",
       "  {'event_type': '质押',\n",
       "   'arguments': [{'role': '质押物', 'argument': '股份'},\n",
       "    {'role': '质押方', 'argument': '丁晟'},\n",
       "    {'role': '质押股票/股份数量', 'argument': '15,140,000'},\n",
       "    {'role': '质押方', 'argument': '丁毅'},\n",
       "    {'role': '质押方', 'argument': '毛英'},\n",
       "    {'role': '事件时间', 'argument': '截至本公告披露日'}]},\n",
       "  {'event_type': '质押',\n",
       "   'arguments': [{'role': '质押物', 'argument': '股份'},\n",
       "    {'role': '质押物占总股比', 'argument': '5.66%'}]},\n",
       "  {'event_type': '质押',\n",
       "   'arguments': [{'role': '质押物', 'argument': '股份'},\n",
       "    {'role': '质押方', 'argument': '丁毅'},\n",
       "    {'role': '质押方', 'argument': '丁晟'},\n",
       "    {'role': '质押方', 'argument': '毛英'},\n",
       "    {'role': '事件时间', 'argument': '截至本公告披露日'},\n",
       "    {'role': '质押股票/股份数量', 'argument': '39,840,000'},\n",
       "    {'role': '质押物占持股比', 'argument': '38.62%'},\n",
       "    {'role': '质押物占总股比', 'argument': '14.89%'}]},\n",
       "  {'event_type': '质押',\n",
       "   'arguments': [{'role': '质押方', 'argument': '丁晟'},\n",
       "    {'role': '质押物', 'argument': '股份'},\n",
       "    {'role': '质押物', 'argument': '流通股'},\n",
       "    {'role': '质押股票/股份数量', 'argument': '6,000,000'},\n",
       "    {'role': '质押物占持股比', 'argument': '27.32%'},\n",
       "    {'role': '质押物占总股比', 'argument': '2.24%'}]},\n",
       "  {'event_type': '解除质押',\n",
       "   'arguments': [{'role': '质押物', 'argument': '股份'},\n",
       "    {'role': '事件时间', 'argument': '2020年6月24日'},\n",
       "    {'role': '质押股票/股份数量', 'argument': '6,560,000'}]},\n",
       "  {'event_type': '质押', 'arguments': [{'role': '质押物', 'argument': '股份'}]},\n",
       "  {'event_type': '解除质押',\n",
       "   'arguments': [{'role': '质押股票/股份数量', 'argument': '6,560,000'}]},\n",
       "  {'event_type': '质押',\n",
       "   'arguments': [{'role': '质押物', 'argument': '股份'},\n",
       "    {'role': '质押方', 'argument': '丁晟'}]},\n",
       "  {'event_type': '质押',\n",
       "   'arguments': [{'role': '质押物', 'argument': '股份'},\n",
       "    {'role': '质押方', 'argument': '丁毅'},\n",
       "    {'role': '质押方', 'argument': '毛英'}]},\n",
       "  {'event_type': '解除质押',\n",
       "   'arguments': [{'role': '质押物', 'argument': '股份'},\n",
       "    {'role': '事件时间', 'argument': '未来半年内'},\n",
       "    {'role': '质押股票/股份数量', 'argument': '9,140,000'},\n",
       "    {'role': '质押物占持股比', 'argument': '41.62%'},\n",
       "    {'role': '质押物占总股比', 'argument': '3.41%'}]},\n",
       "  {'event_type': '质押',\n",
       "   'arguments': [{'role': '质押物占总股比', 'argument': '2.45%'},\n",
       "    {'role': '质押物', 'argument': '股份'},\n",
       "    {'role': '质押方', 'argument': '丁毅'},\n",
       "    {'role': '质押方', 'argument': '丁晟'}]},\n",
       "  {'event_type': '质押',\n",
       "   'arguments': [{'role': '质押物', 'argument': '股份'},\n",
       "    {'role': '事件时间', 'argument': '截至公告披露日'}]},\n",
       "  {'event_type': '质押',\n",
       "   'arguments': [{'role': '质押物', 'argument': '股份'},\n",
       "    {'role': '质押方', 'argument': '丁毅先生及其一致行动人丁晟'},\n",
       "    {'role': '质押方', 'argument': '丁晟'}]},\n",
       "  {'event_type': '解除质押', 'arguments': [{'role': '质押物', 'argument': '股份'}]},\n",
       "  {'event_type': '解除质押',\n",
       "   'arguments': [{'role': '质押方', 'argument': '丁晟'},\n",
       "    {'role': '事件时间', 'argument': '未来一年内'},\n",
       "    {'role': '质押股票/股份数量', 'argument': '6,000,000'}]},\n",
       "  {'event_type': '质押', 'arguments': [{'role': '质押方', 'argument': '丁晟'}]},\n",
       "  {'event_type': '解除质押',\n",
       "   'arguments': [{'role': '事件时间', 'argument': '未来半年内'},\n",
       "    {'role': '质押物', 'argument': '股份'},\n",
       "    {'role': '质押股票/股份数量', 'argument': '9,140,000'},\n",
       "    {'role': '质押物占持股比', 'argument': '41.62%'},\n",
       "    {'role': '质押物占总股比', 'argument': '3.41%'}]},\n",
       "  {'event_type': '解除质押',\n",
       "   'arguments': [{'role': '质押股票/股份数量', 'argument': '6,000,000'},\n",
       "    {'role': '质押物占持股比', 'argument': '27.32%'},\n",
       "    {'role': '质押物占总股比', 'argument': '2.24%'}]},\n",
       "  {'event_type': '质押',\n",
       "   'arguments': [{'role': '质押物', 'argument': '股份'},\n",
       "    {'role': '质押股票/股份数量', 'argument': '6,000,000'},\n",
       "    {'role': '质押物占持股比', 'argument': '27.32%'},\n",
       "    {'role': '质押物占总股比', 'argument': '2.24%'},\n",
       "    {'role': '质押方', 'argument': '丁晟'}]},\n",
       "  {'event_type': '质押',\n",
       "   'arguments': [{'role': '质押物', 'argument': '股份'},\n",
       "    {'role': '质押方', 'argument': '丁晟'},\n",
       "    {'role': '质押物所属公司', 'argument': '诺力智能装备股份有限公司'},\n",
       "    {'role': '披露时间', 'argument': '2020年6月29日'}]}]}"
      ]
     },
     "metadata": {},
     "execution_count": 23
    }
   ],
   "source": [
    "new_dev_data[521]"
   ]
  },
  {
   "cell_type": "code",
   "execution_count": 24,
   "metadata": {},
   "outputs": [
    {
     "output_type": "execute_result",
     "data": {
      "text/plain": [
       "{'text': '原标题：诺力智能装备股份有限公司关于控股股东、实际控制人的一致行动人部分解除质押及质押的公告\\n本公司董事会及全体董事保证本公告内容不存在任何虚假记载、误导性陈述或者重大遗漏，并对其内容的真实性、准确性和完整性承担个别及连带责任。\\n重要内容提示：\\n●诺力智能装备股份有限公司（以下简称“诺力股份(20.760,0.16,0.78%)”或“公司”）控股股东、实际控制人的一致行动人丁晟先生持有公司股份21,963,200股，占公司总股本的8.21%，本次解除质押及再质押后，丁晟先生累计质押公司股份15,140,000股，占其持有公司股份数68.93%，占公司总股本的5.66%。\\n●公司控股股东、实际控制人丁毅先生及其一致行动人丁晟先生、毛英女士合计持有公司股份103,170,097股，占公司总股本的38.56%。截至本公告披露日，丁毅先生及其一致行动人丁晟先生、毛英女士累计质押公司股份39,840,000股，占其持有公司股份总数的38.62%，占公司总股本的14.89%。\\n一、公司股份质押\\n公司于2020年6月24日接到公司控股股东、实际控制人的一致行动人丁晟先生关于其股份解除质押及质押的通知，具体情况如下：\\n1、公司控股股东、实际控制人的一致行动人丁晟先生已于2020年6月23日与广发证券(13.880,-0.49,-3.41%)股份有限公司签署了《股票质押式回购业务交易确认书》，丁晟先生将其持有的无限售条件流通股6,000,000股公司股份质押给广发证券有限公司以融入资金。本次交易初始交易日2020年6月23日，到期回购日2021年6月23日。丁晟先生本次股票质押式回购交易股份数占其持有的公司股份的27.32%，占公司总股本的2.24%。\\n本次股份质押情况具体如下：\\n■\\n2、本次押股份不存在被用作重大资产重组业绩补偿等事项的担保或其他保障用途。\\n二、公司股份解除质押的具体情况\\n2020年6月24日，丁晟先生向广发证券股份有限公司购回了6,560,000股公司股份，并办理完成相关解除股份质押式回购交易手续。本次解除股票质押式回购交易的股份共计6,560,000股，占公司总股本的2.45%。\\n具体情况如下：\\n■\\n三、股东累计质押股份情况\\n截至公告披露日，公司控股股东、实际控制人丁毅先生及其一致行动人丁晟先生、毛英女士累计质押股份情况如下：\\n■\\n四、公司股东股份质押情况\\n1、丁晟先生未来半年和一年内分别到期的质押情况\\n截至本公告披露日，丁晟先生未来半年内到期的质押股份累计数量为9,140,000股，占其所持股份比例41.62%，占公司总股本比例3.41%，对应融资余额5,168.09万元，其中丁晟先生本次质押融资部分款项将用于还清借款；丁晟先生未来一年内到期（不含半年内到期）的质押股份数量为6,000,000股，占其所持股份比例27.32%，占公司总股本比例2.24%，对应融资余额4,000万元。截至目前，丁晟先生信状况良好，其质押融资的还款来源为自有资金、投资收益、股票红利等其他收入，具备资金偿还能力。\\n2、截至本公告披露日，丁晟先生不存在通过非经营性资金占用、违规担保、关联交易等侵害上市公司利益的情况。\\n3、丁晟先生股票质押对上市公司的影响\\n（1）本次股票质押不会对上市公司主营业务、融资授信及融资成本、持续经营能力产生重大影响；\\n（2）本次股票质押不会对股东向上市公司委派董事席位、上市公司的独立性产生重大影响，亦不会对公司控制权稳定、股权结构、日常管理产生重大影响；\\n（3）本次股票质押不存在履行业绩补偿义务的情况。\\n四、其他说明\\n1、本次质押式回购交易的目的：丁晟先生本次质押主要丁晟先生个人融资需要，用于偿还负债，以降低融资成本。\\n2、资金偿还能力及相关安排：丁晟先生个人资信状况良好，具备资金偿还能力，质押比例较低，质押风险可控。本次质押的还款来源包括质押人的个人日常的收入或营业收入及利润、上市公司分红等。另外，本次质押未出现导致公司实际控制权发生变更的实质性因素。\\n3、可能引发的风险及应对措施：根据质押协议约定，本次交易设履约保障比例平仓值，当履约保障比例低于平仓值时，可能引发质权人对质押股份的平仓行为。以上风险引发时，丁晟先生将采取以下措施解决（1）提前购回；（2）补充质押股票、部分购回或场外偿还，防止股票平仓等，并及时通知公司进行信息披露。\\n特此公告。\\n诺力智能装备股份有限公司董事会\\n2020年6月29日',\n",
       " 'event_list': [{'trigger': '质押',\n",
       "   'event_type': '质押',\n",
       "   'arguments': [{'role': '质押物所属公司', 'argument': '诺力智能装备股份有限公司'},\n",
       "    {'role': '质押方', 'argument': '丁晟'},\n",
       "    {'role': '质押物', 'argument': '股份'},\n",
       "    {'role': '质押股票/股份数量', 'argument': '15,140,000'},\n",
       "    {'role': '质押物占持股比', 'argument': '68.93%'},\n",
       "    {'role': '质押物占总股比', 'argument': '5.66%'},\n",
       "    {'role': '披露时间', 'argument': '2020年6月29日'}]},\n",
       "  {'trigger': '质押',\n",
       "   'event_type': '质押',\n",
       "   'arguments': [{'role': '质押物所属公司', 'argument': '诺力智能装备股份有限公司'},\n",
       "    {'role': '质押方', 'argument': '毛英'},\n",
       "    {'role': '质押物', 'argument': '股份'},\n",
       "    {'role': '质押股票/股份数量', 'argument': '39,840,000'},\n",
       "    {'role': '质押物占持股比', 'argument': '38.62%'},\n",
       "    {'role': '质押物占总股比', 'argument': '14.89%'},\n",
       "    {'role': '披露时间', 'argument': '2020年6月29日'}]},\n",
       "  {'trigger': '到期',\n",
       "   'event_type': '解除质押',\n",
       "   'arguments': [{'role': '质押物所属公司', 'argument': '诺力智能装备股份有限公司'},\n",
       "    {'role': '事件时间', 'argument': '未来半年内'},\n",
       "    {'role': '质押方', 'argument': '丁晟'},\n",
       "    {'role': '质押物', 'argument': '股份'},\n",
       "    {'role': '质押股票/股份数量', 'argument': '9,140,000'},\n",
       "    {'role': '质押物占持股比', 'argument': '41.62%'},\n",
       "    {'role': '质押物占总股比', 'argument': '3.41%'},\n",
       "    {'role': '披露时间', 'argument': '2020年6月29日'}]},\n",
       "  {'trigger': '到期',\n",
       "   'event_type': '解除质押',\n",
       "   'arguments': [{'role': '质押物所属公司', 'argument': '诺力智能装备股份有限公司'},\n",
       "    {'role': '质押方', 'argument': '丁晟'},\n",
       "    {'role': '事件时间', 'argument': '未来一年内'},\n",
       "    {'role': '质押物', 'argument': '股份'},\n",
       "    {'role': '质押股票/股份数量', 'argument': '6,000,000'},\n",
       "    {'role': '质押物占持股比', 'argument': '27.32%'},\n",
       "    {'role': '质押物占总股比', 'argument': '2.24%'},\n",
       "    {'role': '披露时间', 'argument': '2020年6月29日'}]}],\n",
       " 'id': '98c0aaf60065049a9274a9f746e447e6',\n",
       " 'title': '诺力智能装备股份有限公司关于控股股东、实际控制人的一致行动人部分解除质押及质押的公告'}"
      ]
     },
     "metadata": {},
     "execution_count": 24
    }
   ],
   "source": [
    "dev_data[521]"
   ]
  },
  {
   "cell_type": "code",
   "execution_count": null,
   "metadata": {},
   "outputs": [],
   "source": []
  }
 ]
}